{
 "cells": [
  {
   "cell_type": "code",
   "execution_count": 171,
   "metadata": {},
   "outputs": [],
   "source": [
    "# исходная функция минус штраф\n",
    "def F(x1,x2,r):\n",
    "    return (200000*x1**(1/3)*(50)**(1/2)*x2**(1/6) - 0.1*x1 - 2.5 - 0.01*x2 - r*(x1**2 + x2**2))"
   ]
  },
  {
   "cell_type": "code",
   "execution_count": 172,
   "metadata": {},
   "outputs": [],
   "source": [
    "# градиент, частная производная по x1\n",
    "def dFdx1(x1,x2,r):\n",
    "    return (200000*(50)**(1/2)*(1/3)*(x1)**(-2/3)*(x2)**(1/6) - 0.1 - r*(2*x1))"
   ]
  },
  {
   "cell_type": "code",
   "execution_count": 173,
   "metadata": {},
   "outputs": [],
   "source": [
    "# градиент, частная производная по x2\n",
    "def dFdx2(x1,x2,r):\n",
    "    return (200000*(50)**(1/2)*(1/6)*(x1)**(1/3)*(x2)**(-5/6) - 0.01 - r*(2*x2))"
   ]
  },
  {
   "cell_type": "code",
   "execution_count": 197,
   "metadata": {},
   "outputs": [],
   "source": [
    "r = 1 #параметр метода штрафных функций\n",
    "lambd = 0.1 #шаг градиентного метода\n",
    "eps = 0.1 #параметр для критерия останова в методе градиентного спуска\n",
    "koef = 0.1\n",
    "A = [1,1] # начальная точка\n",
    "F_last = F(A[0],A[1],r)\n",
    "F_new = 9999999999\n",
    "iter_last = 0\n",
    "iter_curr = 0"
   ]
  },
  {
   "cell_type": "code",
   "execution_count": 198,
   "metadata": {},
   "outputs": [
    {
     "name": "stdout",
     "output_type": "stream",
     "text": [
      "Tochka_max = [87786.111032959, 62072.88228169174] Znachenie_v_tochke =  214868911.40476385\n"
     ]
    }
   ],
   "source": [
    "while True:\n",
    "    #поиск максимума методом градиентного спуска\n",
    "    iter_curr += 1\n",
    "    F_last = F(A[0],A[1],r)\n",
    "    grad1 = dFdx1(A[0],A[1],r) #градиент целевой функции (частная производная по x1)\n",
    "    grad2 = dFdx2(A[0],A[1],r) #градиент целевой функции (частная производная по x2)\n",
    "    A[0] = A[0] + lambd*grad1 #сдвигаем прежнюю начальную точку в новое положение в сторону градиента\n",
    "    A[1] = A[1] + lambd*grad2\n",
    "    F_new = F(A[0],A[1],r) #вычисляем значение целевой функции в новой точке\n",
    "    \n",
    "    #критерий дробления лямбды:\n",
    "    if not F_new >= F_last - koef*lambd*(grad1**2 + grad2**2):\n",
    "       lambd *= 0.95\n",
    "    \n",
    "    ###########################################################\n",
    "    # подбираем Лямбду, для ускорения сходимости метода\n",
    "    if iter_last - iter_curr >=0:\n",
    "        if iter_curr < 100:\n",
    "            lambd *= 0.25\n",
    "        else:\n",
    "            lambd *= 0.5\n",
    "    else:\n",
    "        if iter_curr > 1000:\n",
    "            lambd *= 4\n",
    "        else:\n",
    "            lambd *= 2\n",
    "    iter_last = iter_curr\n",
    "    ###########################################################\n",
    "    \n",
    "    if (F_new - F_last) > eps: #сверяем критерий останова для метода градиентного спуска\n",
    "        continue\n",
    "    elif (r!=1/64):\n",
    "        iter_curr = 0\n",
    "        r /= 2 #задаем новое значение параметра r для метода штрафных функций\n",
    "        continue\n",
    "    else:\n",
    "        break\n",
    "        \n",
    "print('Tochka_max =', A, \"Znachenie_v_tochke = \", F_new)"
   ]
  },
  {
   "cell_type": "code",
   "execution_count": null,
   "metadata": {},
   "outputs": [],
   "source": []
  }
 ],
 "metadata": {
  "kernelspec": {
   "display_name": "Python 3",
   "language": "python",
   "name": "python3"
  },
  "language_info": {
   "codemirror_mode": {
    "name": "ipython",
    "version": 3
   },
   "file_extension": ".py",
   "mimetype": "text/x-python",
   "name": "python",
   "nbconvert_exporter": "python",
   "pygments_lexer": "ipython3",
   "version": "3.7.6"
  }
 },
 "nbformat": 4,
 "nbformat_minor": 4
}
